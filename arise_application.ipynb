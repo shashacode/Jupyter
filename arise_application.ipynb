{
 "cells": [
  {
   "cell_type": "markdown",
   "metadata": {},
   "source": [
    "# Arise Application Challenge\n",
    "---"
   ]
  },
  {
   "cell_type": "markdown",
   "metadata": {},
   "source": [
    "Please answer the questions shown below by completing the code within this notebook and filling in your final answers in the respective block of the arise Challenge Answers form. "
   ]
  },
  {
   "cell_type": "markdown",
   "metadata": {},
   "source": [
    "---"
   ]
  },
  {
   "cell_type": "markdown",
   "metadata": {},
   "source": [
    "### Step 1 (this step does not have an answer in the answer form)"
   ]
  },
  {
   "cell_type": "markdown",
   "metadata": {},
   "source": [
    "Please import the Pandas package. You will need to install the package if you do not already have them (`hint - google anaconda install pandas`)."
   ]
  },
  {
   "cell_type": "code",
   "execution_count": 1,
   "metadata": {},
   "outputs": [],
   "source": [
    "# Add your code for Question 1 in this code block\n",
    "import pandas as pd"
   ]
  },
  {
   "cell_type": "markdown",
   "metadata": {},
   "source": [
    "---"
   ]
  },
  {
   "cell_type": "markdown",
   "metadata": {},
   "source": [
    "### Step 2 (this step does not have an answer in the answer form)"
   ]
  },
  {
   "cell_type": "markdown",
   "metadata": {},
   "source": [
    "Use Pandas to read in the csv titled `application_data.csv` as a Panda's dataframe. Once you have read in the data as a dataframe use Panda's `head()` function to show an overview of the data."
   ]
  },
  {
   "cell_type": "code",
   "execution_count": 7,
   "metadata": {
    "scrolled": true
   },
   "outputs": [
    {
     "data": {
      "text/html": [
       "<div>\n",
       "<style scoped>\n",
       "    .dataframe tbody tr th:only-of-type {\n",
       "        vertical-align: middle;\n",
       "    }\n",
       "\n",
       "    .dataframe tbody tr th {\n",
       "        vertical-align: top;\n",
       "    }\n",
       "\n",
       "    .dataframe thead th {\n",
       "        text-align: right;\n",
       "    }\n",
       "</style>\n",
       "<table border=\"1\" class=\"dataframe\">\n",
       "  <thead>\n",
       "    <tr style=\"text-align: right;\">\n",
       "      <th></th>\n",
       "      <th>customerID</th>\n",
       "      <th>loanId</th>\n",
       "      <th>appilcationDate</th>\n",
       "      <th>LoanNumber</th>\n",
       "      <th>LoanAmount</th>\n",
       "      <th>InterestRate</th>\n",
       "      <th>TermDays</th>\n",
       "      <th>repaymentDueDate</th>\n",
       "      <th>repaymentPaidDate</th>\n",
       "    </tr>\n",
       "  </thead>\n",
       "  <tbody>\n",
       "    <tr>\n",
       "      <th>0</th>\n",
       "      <td>839247458</td>\n",
       "      <td>302953235622</td>\n",
       "      <td>2018-12-21</td>\n",
       "      <td>1</td>\n",
       "      <td>7500.0</td>\n",
       "      <td>30.0</td>\n",
       "      <td>30</td>\n",
       "      <td>2019-01-20</td>\n",
       "      <td>2019-01-16</td>\n",
       "    </tr>\n",
       "    <tr>\n",
       "      <th>1</th>\n",
       "      <td>217540860</td>\n",
       "      <td>302960101337</td>\n",
       "      <td>2018-12-23</td>\n",
       "      <td>1</td>\n",
       "      <td>7500.0</td>\n",
       "      <td>30.0</td>\n",
       "      <td>30</td>\n",
       "      <td>2019-01-22</td>\n",
       "      <td>2018-12-29</td>\n",
       "    </tr>\n",
       "    <tr>\n",
       "      <th>2</th>\n",
       "      <td>522238092</td>\n",
       "      <td>303016988846</td>\n",
       "      <td>2019-01-08</td>\n",
       "      <td>1</td>\n",
       "      <td>7500.0</td>\n",
       "      <td>30.0</td>\n",
       "      <td>30</td>\n",
       "      <td>2019-02-07</td>\n",
       "      <td>2019-01-08</td>\n",
       "    </tr>\n",
       "    <tr>\n",
       "      <th>3</th>\n",
       "      <td>096754469</td>\n",
       "      <td>302999605504</td>\n",
       "      <td>2019-01-04</td>\n",
       "      <td>1</td>\n",
       "      <td>7500.0</td>\n",
       "      <td>30.0</td>\n",
       "      <td>30</td>\n",
       "      <td>2019-02-03</td>\n",
       "      <td>2019-01-08</td>\n",
       "    </tr>\n",
       "    <tr>\n",
       "      <th>4</th>\n",
       "      <td>410354345</td>\n",
       "      <td>302951945878</td>\n",
       "      <td>2018-12-21</td>\n",
       "      <td>1</td>\n",
       "      <td>7500.0</td>\n",
       "      <td>30.0</td>\n",
       "      <td>30</td>\n",
       "      <td>2019-01-20</td>\n",
       "      <td>2019-01-17</td>\n",
       "    </tr>\n",
       "  </tbody>\n",
       "</table>\n",
       "</div>"
      ],
      "text/plain": [
       "  customerID        loanId appilcationDate  LoanNumber  LoanAmount  \\\n",
       "0  839247458  302953235622      2018-12-21           1      7500.0   \n",
       "1  217540860  302960101337      2018-12-23           1      7500.0   \n",
       "2  522238092  303016988846      2019-01-08           1      7500.0   \n",
       "3  096754469  302999605504      2019-01-04           1      7500.0   \n",
       "4  410354345  302951945878      2018-12-21           1      7500.0   \n",
       "\n",
       "   InterestRate  TermDays repaymentDueDate repaymentPaidDate  \n",
       "0          30.0        30       2019-01-20        2019-01-16  \n",
       "1          30.0        30       2019-01-22        2018-12-29  \n",
       "2          30.0        30       2019-02-07        2019-01-08  \n",
       "3          30.0        30       2019-02-03        2019-01-08  \n",
       "4          30.0        30       2019-01-20        2019-01-17  "
      ]
     },
     "execution_count": 7,
     "metadata": {},
     "output_type": "execute_result"
    }
   ],
   "source": [
    "# Add your code for Question 2 in this code block\n",
    "data  = pd.read_csv(\"application_data.csv\")\n",
    "(data.head())"
   ]
  },
  {
   "cell_type": "markdown",
   "metadata": {},
   "source": [
    "You should now be able to see that the dataset contains information relating to loans that have been disbursed. Each row of the data is specific to a particular loan and displays the customer's ID that took out the loan, a unique loan ID, the date when the client applied for the loan, the loan number of the specific loan (how many loans the client has now taken out), the amount, interest rate, term days, the date when the loan repayment was due and the date the loan was actually repaid."
   ]
  },
  {
   "cell_type": "markdown",
   "metadata": {},
   "source": [
    "---"
   ]
  },
  {
   "cell_type": "markdown",
   "metadata": {},
   "source": [
    "### Question 1"
   ]
  },
  {
   "cell_type": "markdown",
   "metadata": {},
   "source": [
    "Convert `appilcationDate`, `repaymentDueDate` and `repaymentPaidDate` in the dataframes to datetimes. "
   ]
  },
  {
   "cell_type": "code",
   "execution_count": 8,
   "metadata": {},
   "outputs": [
    {
     "name": "stdout",
     "output_type": "stream",
     "text": [
      "<class 'pandas.core.frame.DataFrame'>\n",
      "RangeIndex: 1000 entries, 0 to 999\n",
      "Data columns (total 9 columns):\n",
      " #   Column             Non-Null Count  Dtype  \n",
      "---  ------             --------------  -----  \n",
      " 0   customerID         1000 non-null   object \n",
      " 1   loanId             1000 non-null   object \n",
      " 2   appilcationDate    1000 non-null   object \n",
      " 3   LoanNumber         1000 non-null   int64  \n",
      " 4   LoanAmount         1000 non-null   float64\n",
      " 5   InterestRate       1000 non-null   float64\n",
      " 6   TermDays           1000 non-null   int64  \n",
      " 7   repaymentDueDate   1000 non-null   object \n",
      " 8   repaymentPaidDate  1000 non-null   object \n",
      "dtypes: float64(2), int64(2), object(5)\n",
      "memory usage: 70.4+ KB\n"
     ]
    }
   ],
   "source": [
    "data.info()"
   ]
  },
  {
   "cell_type": "code",
   "execution_count": 9,
   "metadata": {},
   "outputs": [
    {
     "data": {
      "text/html": [
       "<div>\n",
       "<style scoped>\n",
       "    .dataframe tbody tr th:only-of-type {\n",
       "        vertical-align: middle;\n",
       "    }\n",
       "\n",
       "    .dataframe tbody tr th {\n",
       "        vertical-align: top;\n",
       "    }\n",
       "\n",
       "    .dataframe thead th {\n",
       "        text-align: right;\n",
       "    }\n",
       "</style>\n",
       "<table border=\"1\" class=\"dataframe\">\n",
       "  <thead>\n",
       "    <tr style=\"text-align: right;\">\n",
       "      <th></th>\n",
       "      <th>customerID</th>\n",
       "      <th>loanId</th>\n",
       "      <th>appilcationDate</th>\n",
       "      <th>LoanNumber</th>\n",
       "      <th>LoanAmount</th>\n",
       "      <th>InterestRate</th>\n",
       "      <th>TermDays</th>\n",
       "      <th>repaymentDueDate</th>\n",
       "      <th>repaymentPaidDate</th>\n",
       "    </tr>\n",
       "  </thead>\n",
       "  <tbody>\n",
       "    <tr>\n",
       "      <th>0</th>\n",
       "      <td>839247458</td>\n",
       "      <td>302953235622</td>\n",
       "      <td>2018-12-21</td>\n",
       "      <td>1</td>\n",
       "      <td>7500.0</td>\n",
       "      <td>30.0</td>\n",
       "      <td>30</td>\n",
       "      <td>2019-01-20</td>\n",
       "      <td>2019-01-16</td>\n",
       "    </tr>\n",
       "    <tr>\n",
       "      <th>1</th>\n",
       "      <td>217540860</td>\n",
       "      <td>302960101337</td>\n",
       "      <td>2018-12-23</td>\n",
       "      <td>1</td>\n",
       "      <td>7500.0</td>\n",
       "      <td>30.0</td>\n",
       "      <td>30</td>\n",
       "      <td>2019-01-22</td>\n",
       "      <td>2018-12-29</td>\n",
       "    </tr>\n",
       "    <tr>\n",
       "      <th>2</th>\n",
       "      <td>522238092</td>\n",
       "      <td>303016988846</td>\n",
       "      <td>2019-01-08</td>\n",
       "      <td>1</td>\n",
       "      <td>7500.0</td>\n",
       "      <td>30.0</td>\n",
       "      <td>30</td>\n",
       "      <td>2019-02-07</td>\n",
       "      <td>2019-01-08</td>\n",
       "    </tr>\n",
       "    <tr>\n",
       "      <th>3</th>\n",
       "      <td>096754469</td>\n",
       "      <td>302999605504</td>\n",
       "      <td>2019-01-04</td>\n",
       "      <td>1</td>\n",
       "      <td>7500.0</td>\n",
       "      <td>30.0</td>\n",
       "      <td>30</td>\n",
       "      <td>2019-02-03</td>\n",
       "      <td>2019-01-08</td>\n",
       "    </tr>\n",
       "    <tr>\n",
       "      <th>4</th>\n",
       "      <td>410354345</td>\n",
       "      <td>302951945878</td>\n",
       "      <td>2018-12-21</td>\n",
       "      <td>1</td>\n",
       "      <td>7500.0</td>\n",
       "      <td>30.0</td>\n",
       "      <td>30</td>\n",
       "      <td>2019-01-20</td>\n",
       "      <td>2019-01-17</td>\n",
       "    </tr>\n",
       "    <tr>\n",
       "      <th>...</th>\n",
       "      <td>...</td>\n",
       "      <td>...</td>\n",
       "      <td>...</td>\n",
       "      <td>...</td>\n",
       "      <td>...</td>\n",
       "      <td>...</td>\n",
       "      <td>...</td>\n",
       "      <td>...</td>\n",
       "      <td>...</td>\n",
       "    </tr>\n",
       "    <tr>\n",
       "      <th>995</th>\n",
       "      <td>964510149</td>\n",
       "      <td>302636726</td>\n",
       "      <td>2018-01-15</td>\n",
       "      <td>2</td>\n",
       "      <td>7500.0</td>\n",
       "      <td>30.0</td>\n",
       "      <td>30</td>\n",
       "      <td>2018-02-14</td>\n",
       "      <td>2018-01-20</td>\n",
       "    </tr>\n",
       "    <tr>\n",
       "      <th>996</th>\n",
       "      <td>251997198</td>\n",
       "      <td>302772445</td>\n",
       "      <td>2018-02-13</td>\n",
       "      <td>1</td>\n",
       "      <td>7500.0</td>\n",
       "      <td>30.0</td>\n",
       "      <td>30</td>\n",
       "      <td>2018-03-15</td>\n",
       "      <td>2018-03-14</td>\n",
       "    </tr>\n",
       "    <tr>\n",
       "      <th>997</th>\n",
       "      <td>899011279</td>\n",
       "      <td>302585439</td>\n",
       "      <td>2018-01-03</td>\n",
       "      <td>3</td>\n",
       "      <td>7500.0</td>\n",
       "      <td>30.0</td>\n",
       "      <td>30</td>\n",
       "      <td>2018-02-02</td>\n",
       "      <td>2018-10-12</td>\n",
       "    </tr>\n",
       "    <tr>\n",
       "      <th>998</th>\n",
       "      <td>648637210</td>\n",
       "      <td>302788322114</td>\n",
       "      <td>2018-11-19</td>\n",
       "      <td>1</td>\n",
       "      <td>7500.0</td>\n",
       "      <td>30.0</td>\n",
       "      <td>30</td>\n",
       "      <td>2018-12-19</td>\n",
       "      <td>2018-12-17</td>\n",
       "    </tr>\n",
       "    <tr>\n",
       "      <th>999</th>\n",
       "      <td>464788691</td>\n",
       "      <td>302683579</td>\n",
       "      <td>2018-01-24</td>\n",
       "      <td>1</td>\n",
       "      <td>7500.0</td>\n",
       "      <td>30.0</td>\n",
       "      <td>30</td>\n",
       "      <td>2018-02-24</td>\n",
       "      <td>2018-02-11</td>\n",
       "    </tr>\n",
       "  </tbody>\n",
       "</table>\n",
       "<p>1000 rows × 9 columns</p>\n",
       "</div>"
      ],
      "text/plain": [
       "    customerID        loanId appilcationDate  LoanNumber  LoanAmount  \\\n",
       "0    839247458  302953235622      2018-12-21           1      7500.0   \n",
       "1    217540860  302960101337      2018-12-23           1      7500.0   \n",
       "2    522238092  303016988846      2019-01-08           1      7500.0   \n",
       "3    096754469  302999605504      2019-01-04           1      7500.0   \n",
       "4    410354345  302951945878      2018-12-21           1      7500.0   \n",
       "..         ...           ...             ...         ...         ...   \n",
       "995  964510149     302636726      2018-01-15           2      7500.0   \n",
       "996  251997198     302772445      2018-02-13           1      7500.0   \n",
       "997  899011279     302585439      2018-01-03           3      7500.0   \n",
       "998  648637210  302788322114      2018-11-19           1      7500.0   \n",
       "999  464788691     302683579      2018-01-24           1      7500.0   \n",
       "\n",
       "     InterestRate  TermDays repaymentDueDate repaymentPaidDate  \n",
       "0            30.0        30       2019-01-20        2019-01-16  \n",
       "1            30.0        30       2019-01-22        2018-12-29  \n",
       "2            30.0        30       2019-02-07        2019-01-08  \n",
       "3            30.0        30       2019-02-03        2019-01-08  \n",
       "4            30.0        30       2019-01-20        2019-01-17  \n",
       "..            ...       ...              ...               ...  \n",
       "995          30.0        30       2018-02-14        2018-01-20  \n",
       "996          30.0        30       2018-03-15        2018-03-14  \n",
       "997          30.0        30       2018-02-02        2018-10-12  \n",
       "998          30.0        30       2018-12-19        2018-12-17  \n",
       "999          30.0        30       2018-02-24        2018-02-11  \n",
       "\n",
       "[1000 rows x 9 columns]"
      ]
     },
     "execution_count": 9,
     "metadata": {},
     "output_type": "execute_result"
    }
   ],
   "source": [
    "# convert to dates\n",
    "\n",
    "data[\"appilcationDate\"] = pd.to_datetime(data[\"appilcationDate\"])\n",
    "data[\"repaymentDueDate\"] = pd.to_datetime(data[\"repaymentDueDate\"])\n",
    "data[\"repaymentPaidDate\"] = pd.to_datetime(data[\"repaymentPaidDate\"])\n",
    "data"
   ]
  },
  {
   "cell_type": "code",
   "execution_count": 10,
   "metadata": {},
   "outputs": [
    {
     "name": "stdout",
     "output_type": "stream",
     "text": [
      "<class 'pandas.core.frame.DataFrame'>\n",
      "RangeIndex: 1000 entries, 0 to 999\n",
      "Data columns (total 9 columns):\n",
      " #   Column             Non-Null Count  Dtype         \n",
      "---  ------             --------------  -----         \n",
      " 0   customerID         1000 non-null   object        \n",
      " 1   loanId             1000 non-null   object        \n",
      " 2   appilcationDate    1000 non-null   datetime64[ns]\n",
      " 3   LoanNumber         1000 non-null   int64         \n",
      " 4   LoanAmount         1000 non-null   float64       \n",
      " 5   InterestRate       1000 non-null   float64       \n",
      " 6   TermDays           1000 non-null   int64         \n",
      " 7   repaymentDueDate   1000 non-null   datetime64[ns]\n",
      " 8   repaymentPaidDate  1000 non-null   datetime64[ns]\n",
      "dtypes: datetime64[ns](3), float64(2), int64(2), object(2)\n",
      "memory usage: 70.4+ KB\n"
     ]
    }
   ],
   "source": [
    "data.info()"
   ]
  },
  {
   "cell_type": "markdown",
   "metadata": {},
   "source": [
    "Now that the dates have been converted, How many `unique`data types are contained within the application dataset?"
   ]
  },
  {
   "cell_type": "code",
   "execution_count": 11,
   "metadata": {},
   "outputs": [
    {
     "name": "stdout",
     "output_type": "stream",
     "text": [
      "<class 'pandas.core.frame.DataFrame'>\n",
      "RangeIndex: 1000 entries, 0 to 999\n",
      "Data columns (total 9 columns):\n",
      " #   Column             Non-Null Count  Dtype         \n",
      "---  ------             --------------  -----         \n",
      " 0   customerID         1000 non-null   object        \n",
      " 1   loanId             1000 non-null   object        \n",
      " 2   appilcationDate    1000 non-null   datetime64[ns]\n",
      " 3   LoanNumber         1000 non-null   int64         \n",
      " 4   LoanAmount         1000 non-null   float64       \n",
      " 5   InterestRate       1000 non-null   float64       \n",
      " 6   TermDays           1000 non-null   int64         \n",
      " 7   repaymentDueDate   1000 non-null   datetime64[ns]\n",
      " 8   repaymentPaidDate  1000 non-null   datetime64[ns]\n",
      "dtypes: datetime64[ns](3), float64(2), int64(2), object(2)\n",
      "memory usage: 70.4+ KB\n"
     ]
    },
    {
     "data": {
      "text/plain": [
       "customerID                   object\n",
       "loanId                       object\n",
       "appilcationDate      datetime64[ns]\n",
       "LoanNumber                    int64\n",
       "LoanAmount                  float64\n",
       "InterestRate                float64\n",
       "TermDays                      int64\n",
       "repaymentDueDate     datetime64[ns]\n",
       "repaymentPaidDate    datetime64[ns]\n",
       "dtype: object"
      ]
     },
     "execution_count": 11,
     "metadata": {},
     "output_type": "execute_result"
    }
   ],
   "source": [
    "# data types\n",
    "data.info()\n",
    "#4 data types\n",
    "data.dtypes"
   ]
  },
  {
   "cell_type": "markdown",
   "metadata": {},
   "source": [
    "### Question 2"
   ]
  },
  {
   "cell_type": "markdown",
   "metadata": {},
   "source": [
    "Please calculate the `average` loan amount, interest rate and termdays for all the loans in the dataset? `Round` all number to two decimal places."
   ]
  },
  {
   "cell_type": "code",
   "execution_count": 16,
   "metadata": {},
   "outputs": [
    {
     "data": {
      "text/plain": [
       "13828.08"
      ]
     },
     "execution_count": 16,
     "metadata": {},
     "output_type": "execute_result"
    }
   ],
   "source": [
    "# 2a avg loan amount\n",
    "\n",
    "data.columns\n",
    "loan_amount = data[\"LoanAmount\"]\n",
    "loan_amount.mean().round(2)"
   ]
  },
  {
   "cell_type": "code",
   "execution_count": 15,
   "metadata": {},
   "outputs": [
    {
     "data": {
      "text/plain": [
       "23.06"
      ]
     },
     "execution_count": 15,
     "metadata": {},
     "output_type": "execute_result"
    }
   ],
   "source": [
    "# 2b avg interest rate\n",
    "data.columns\n",
    "interest_rate = data[\"InterestRate\"]\n",
    "interest_rate.mean().round(2)"
   ]
  },
  {
   "cell_type": "code",
   "execution_count": 14,
   "metadata": {},
   "outputs": [
    {
     "data": {
      "text/plain": [
       "42.08"
      ]
     },
     "execution_count": 14,
     "metadata": {},
     "output_type": "execute_result"
    }
   ],
   "source": [
    "# 2c avg term days \n",
    "data.columns\n",
    "term_days = data[\"TermDays\"]\n",
    "term_days.mean().round(2)"
   ]
  },
  {
   "cell_type": "markdown",
   "metadata": {},
   "source": [
    "---"
   ]
  },
  {
   "cell_type": "markdown",
   "metadata": {},
   "source": [
    "### Question 3"
   ]
  },
  {
   "cell_type": "markdown",
   "metadata": {},
   "source": [
    "Please create a new column called `dateDifference` which needs to contains the number of days between when the loan was repaid and when it was due to be repaid. \n",
    "\n",
    "Count the number of loans that were paid more than 3 days late. This can be done by first creating a dataframe only containing the loans that were paid more than 3 days late. "
   ]
  },
  {
   "cell_type": "code",
   "execution_count": 37,
   "metadata": {},
   "outputs": [
    {
     "data": {
      "text/plain": [
       "127"
      ]
     },
     "execution_count": 37,
     "metadata": {},
     "output_type": "execute_result"
    }
   ],
   "source": [
    "# date difference\n",
    "data_difference = data[\"repaymentPaidDate\"] - data[\"repaymentDueDate\"]\n",
    "data[\"dateDifference\"] = data_difference\n",
    "# number of loans more than 3 days late\n",
    "over_3days_late = data[data[\"dateDifference\"].dt.days > 3]\n",
    "over_3days_late.shape[0]"
   ]
  },
  {
   "cell_type": "code",
   "execution_count": 28,
   "metadata": {},
   "outputs": [
    {
     "data": {
      "text/plain": [
       "397    False\n",
       "410    False\n",
       "419    False\n",
       "424    False\n",
       "426    False\n",
       "       ...  \n",
       "978    False\n",
       "980    False\n",
       "983    False\n",
       "987    False\n",
       "997    False\n",
       "Name: customerID, Length: 145, dtype: bool"
      ]
     },
     "execution_count": 28,
     "metadata": {},
     "output_type": "execute_result"
    }
   ],
   "source": [
    "over_3days_late[over_3days_late[\"customerID\"] == \"GH96908526\"]"
   ]
  },
  {
   "cell_type": "code",
   "execution_count": 27,
   "metadata": {},
   "outputs": [
    {
     "data": {
      "text/html": [
       "<div>\n",
       "<style scoped>\n",
       "    .dataframe tbody tr th:only-of-type {\n",
       "        vertical-align: middle;\n",
       "    }\n",
       "\n",
       "    .dataframe tbody tr th {\n",
       "        vertical-align: top;\n",
       "    }\n",
       "\n",
       "    .dataframe thead th {\n",
       "        text-align: right;\n",
       "    }\n",
       "</style>\n",
       "<table border=\"1\" class=\"dataframe\">\n",
       "  <thead>\n",
       "    <tr style=\"text-align: right;\">\n",
       "      <th></th>\n",
       "      <th>customerID</th>\n",
       "      <th>loanId</th>\n",
       "      <th>appilcationDate</th>\n",
       "      <th>LoanNumber</th>\n",
       "      <th>LoanAmount</th>\n",
       "      <th>TermDays</th>\n",
       "      <th>repaymentDueDate</th>\n",
       "      <th>repaymentPaidDate</th>\n",
       "      <th>dateDifference</th>\n",
       "    </tr>\n",
       "    <tr>\n",
       "      <th>InterestRate</th>\n",
       "      <th></th>\n",
       "      <th></th>\n",
       "      <th></th>\n",
       "      <th></th>\n",
       "      <th></th>\n",
       "      <th></th>\n",
       "      <th></th>\n",
       "      <th></th>\n",
       "      <th></th>\n",
       "    </tr>\n",
       "  </thead>\n",
       "  <tbody>\n",
       "    <tr>\n",
       "      <th>5.0</th>\n",
       "      <td>21</td>\n",
       "      <td>21</td>\n",
       "      <td>21</td>\n",
       "      <td>21</td>\n",
       "      <td>21</td>\n",
       "      <td>21</td>\n",
       "      <td>21</td>\n",
       "      <td>21</td>\n",
       "      <td>21</td>\n",
       "    </tr>\n",
       "    <tr>\n",
       "      <th>6.0</th>\n",
       "      <td>3</td>\n",
       "      <td>3</td>\n",
       "      <td>3</td>\n",
       "      <td>3</td>\n",
       "      <td>3</td>\n",
       "      <td>3</td>\n",
       "      <td>3</td>\n",
       "      <td>3</td>\n",
       "      <td>3</td>\n",
       "    </tr>\n",
       "    <tr>\n",
       "      <th>7.5</th>\n",
       "      <td>30</td>\n",
       "      <td>30</td>\n",
       "      <td>30</td>\n",
       "      <td>30</td>\n",
       "      <td>30</td>\n",
       "      <td>30</td>\n",
       "      <td>30</td>\n",
       "      <td>30</td>\n",
       "      <td>30</td>\n",
       "    </tr>\n",
       "    <tr>\n",
       "      <th>9.0</th>\n",
       "      <td>1</td>\n",
       "      <td>1</td>\n",
       "      <td>1</td>\n",
       "      <td>1</td>\n",
       "      <td>1</td>\n",
       "      <td>1</td>\n",
       "      <td>1</td>\n",
       "      <td>1</td>\n",
       "      <td>1</td>\n",
       "    </tr>\n",
       "    <tr>\n",
       "      <th>9.9</th>\n",
       "      <td>1</td>\n",
       "      <td>1</td>\n",
       "      <td>1</td>\n",
       "      <td>1</td>\n",
       "      <td>1</td>\n",
       "      <td>1</td>\n",
       "      <td>1</td>\n",
       "      <td>1</td>\n",
       "      <td>1</td>\n",
       "    </tr>\n",
       "    <tr>\n",
       "      <th>10.0</th>\n",
       "      <td>33</td>\n",
       "      <td>33</td>\n",
       "      <td>33</td>\n",
       "      <td>33</td>\n",
       "      <td>33</td>\n",
       "      <td>33</td>\n",
       "      <td>33</td>\n",
       "      <td>33</td>\n",
       "      <td>33</td>\n",
       "    </tr>\n",
       "    <tr>\n",
       "      <th>12.0</th>\n",
       "      <td>8</td>\n",
       "      <td>8</td>\n",
       "      <td>8</td>\n",
       "      <td>8</td>\n",
       "      <td>8</td>\n",
       "      <td>8</td>\n",
       "      <td>8</td>\n",
       "      <td>8</td>\n",
       "      <td>8</td>\n",
       "    </tr>\n",
       "    <tr>\n",
       "      <th>12.5</th>\n",
       "      <td>46</td>\n",
       "      <td>46</td>\n",
       "      <td>46</td>\n",
       "      <td>46</td>\n",
       "      <td>46</td>\n",
       "      <td>46</td>\n",
       "      <td>46</td>\n",
       "      <td>46</td>\n",
       "      <td>46</td>\n",
       "    </tr>\n",
       "    <tr>\n",
       "      <th>12.6</th>\n",
       "      <td>5</td>\n",
       "      <td>5</td>\n",
       "      <td>5</td>\n",
       "      <td>5</td>\n",
       "      <td>5</td>\n",
       "      <td>5</td>\n",
       "      <td>5</td>\n",
       "      <td>5</td>\n",
       "      <td>5</td>\n",
       "    </tr>\n",
       "    <tr>\n",
       "      <th>15.0</th>\n",
       "      <td>208</td>\n",
       "      <td>208</td>\n",
       "      <td>208</td>\n",
       "      <td>208</td>\n",
       "      <td>208</td>\n",
       "      <td>208</td>\n",
       "      <td>208</td>\n",
       "      <td>208</td>\n",
       "      <td>208</td>\n",
       "    </tr>\n",
       "    <tr>\n",
       "      <th>18.0</th>\n",
       "      <td>5</td>\n",
       "      <td>5</td>\n",
       "      <td>5</td>\n",
       "      <td>5</td>\n",
       "      <td>5</td>\n",
       "      <td>5</td>\n",
       "      <td>5</td>\n",
       "      <td>5</td>\n",
       "      <td>5</td>\n",
       "    </tr>\n",
       "    <tr>\n",
       "      <th>19.8</th>\n",
       "      <td>7</td>\n",
       "      <td>7</td>\n",
       "      <td>7</td>\n",
       "      <td>7</td>\n",
       "      <td>7</td>\n",
       "      <td>7</td>\n",
       "      <td>7</td>\n",
       "      <td>7</td>\n",
       "      <td>7</td>\n",
       "    </tr>\n",
       "    <tr>\n",
       "      <th>20.0</th>\n",
       "      <td>49</td>\n",
       "      <td>49</td>\n",
       "      <td>49</td>\n",
       "      <td>49</td>\n",
       "      <td>49</td>\n",
       "      <td>49</td>\n",
       "      <td>49</td>\n",
       "      <td>49</td>\n",
       "      <td>49</td>\n",
       "    </tr>\n",
       "    <tr>\n",
       "      <th>20.1</th>\n",
       "      <td>22</td>\n",
       "      <td>22</td>\n",
       "      <td>22</td>\n",
       "      <td>22</td>\n",
       "      <td>22</td>\n",
       "      <td>22</td>\n",
       "      <td>22</td>\n",
       "      <td>22</td>\n",
       "      <td>22</td>\n",
       "    </tr>\n",
       "    <tr>\n",
       "      <th>27.0</th>\n",
       "      <td>42</td>\n",
       "      <td>42</td>\n",
       "      <td>42</td>\n",
       "      <td>42</td>\n",
       "      <td>42</td>\n",
       "      <td>42</td>\n",
       "      <td>42</td>\n",
       "      <td>42</td>\n",
       "      <td>42</td>\n",
       "    </tr>\n",
       "    <tr>\n",
       "      <th>30.0</th>\n",
       "      <td>493</td>\n",
       "      <td>493</td>\n",
       "      <td>493</td>\n",
       "      <td>493</td>\n",
       "      <td>493</td>\n",
       "      <td>493</td>\n",
       "      <td>493</td>\n",
       "      <td>493</td>\n",
       "      <td>493</td>\n",
       "    </tr>\n",
       "    <tr>\n",
       "      <th>36.0</th>\n",
       "      <td>26</td>\n",
       "      <td>26</td>\n",
       "      <td>26</td>\n",
       "      <td>26</td>\n",
       "      <td>26</td>\n",
       "      <td>26</td>\n",
       "      <td>26</td>\n",
       "      <td>26</td>\n",
       "      <td>26</td>\n",
       "    </tr>\n",
       "  </tbody>\n",
       "</table>\n",
       "</div>"
      ],
      "text/plain": [
       "              customerID  loanId  appilcationDate  LoanNumber  LoanAmount  \\\n",
       "InterestRate                                                                \n",
       "5.0                   21      21               21          21          21   \n",
       "6.0                    3       3                3           3           3   \n",
       "7.5                   30      30               30          30          30   \n",
       "9.0                    1       1                1           1           1   \n",
       "9.9                    1       1                1           1           1   \n",
       "10.0                  33      33               33          33          33   \n",
       "12.0                   8       8                8           8           8   \n",
       "12.5                  46      46               46          46          46   \n",
       "12.6                   5       5                5           5           5   \n",
       "15.0                 208     208              208         208         208   \n",
       "18.0                   5       5                5           5           5   \n",
       "19.8                   7       7                7           7           7   \n",
       "20.0                  49      49               49          49          49   \n",
       "20.1                  22      22               22          22          22   \n",
       "27.0                  42      42               42          42          42   \n",
       "30.0                 493     493              493         493         493   \n",
       "36.0                  26      26               26          26          26   \n",
       "\n",
       "              TermDays  repaymentDueDate  repaymentPaidDate  dateDifference  \n",
       "InterestRate                                                                 \n",
       "5.0                 21                21                 21              21  \n",
       "6.0                  3                 3                  3               3  \n",
       "7.5                 30                30                 30              30  \n",
       "9.0                  1                 1                  1               1  \n",
       "9.9                  1                 1                  1               1  \n",
       "10.0                33                33                 33              33  \n",
       "12.0                 8                 8                  8               8  \n",
       "12.5                46                46                 46              46  \n",
       "12.6                 5                 5                  5               5  \n",
       "15.0               208               208                208             208  \n",
       "18.0                 5                 5                  5               5  \n",
       "19.8                 7                 7                  7               7  \n",
       "20.0                49                49                 49              49  \n",
       "20.1                22                22                 22              22  \n",
       "27.0                42                42                 42              42  \n",
       "30.0               493               493                493             493  \n",
       "36.0                26                26                 26              26  "
      ]
     },
     "execution_count": 27,
     "metadata": {},
     "output_type": "execute_result"
    }
   ],
   "source": [
    "data.groupby(\"InterestRate\").count()"
   ]
  },
  {
   "cell_type": "markdown",
   "metadata": {},
   "source": [
    "---"
   ]
  },
  {
   "cell_type": "markdown",
   "metadata": {},
   "source": [
    "### Question 4"
   ]
  },
  {
   "cell_type": "markdown",
   "metadata": {},
   "source": [
    "Please group the dataset by `TermDays` and calculate the `mean` loan amount and the `standard deviation` of loan amount within each term.\n",
    "\n",
    "What is the mean loan amount in 30-day loans and what is the standard deviation of  loan amount in 90-day loans? Please give your answers to the nearest two decimal places. "
   ]
  },
  {
   "cell_type": "markdown",
   "metadata": {},
   "source": [
    "### THIS IS A MARKDOWN\n",
    "\n",
    "* Markdowns are cool"
   ]
  },
  {
   "cell_type": "code",
   "execution_count": 19,
   "metadata": {},
   "outputs": [
    {
     "data": {
      "text/html": [
       "<div>\n",
       "<style scoped>\n",
       "    .dataframe tbody tr th:only-of-type {\n",
       "        vertical-align: middle;\n",
       "    }\n",
       "\n",
       "    .dataframe tbody tr th {\n",
       "        vertical-align: top;\n",
       "    }\n",
       "\n",
       "    .dataframe thead th {\n",
       "        text-align: right;\n",
       "    }\n",
       "</style>\n",
       "<table border=\"1\" class=\"dataframe\">\n",
       "  <thead>\n",
       "    <tr style=\"text-align: right;\">\n",
       "      <th></th>\n",
       "      <th>TermDays</th>\n",
       "      <th>LoanAmount</th>\n",
       "      <th>InterestRate</th>\n",
       "    </tr>\n",
       "  </thead>\n",
       "  <tbody>\n",
       "    <tr>\n",
       "      <th>0</th>\n",
       "      <td>15</td>\n",
       "      <td>2885.967406</td>\n",
       "      <td>0.000000</td>\n",
       "    </tr>\n",
       "    <tr>\n",
       "      <th>1</th>\n",
       "      <td>30</td>\n",
       "      <td>1606.039495</td>\n",
       "      <td>4.034005</td>\n",
       "    </tr>\n",
       "    <tr>\n",
       "      <th>2</th>\n",
       "      <td>45</td>\n",
       "      <td>2346.143820</td>\n",
       "      <td>5.773965</td>\n",
       "    </tr>\n",
       "    <tr>\n",
       "      <th>3</th>\n",
       "      <td>60</td>\n",
       "      <td>11559.646185</td>\n",
       "      <td>3.632352</td>\n",
       "    </tr>\n",
       "    <tr>\n",
       "      <th>4</th>\n",
       "      <td>90</td>\n",
       "      <td>18050.140602</td>\n",
       "      <td>2.180963</td>\n",
       "    </tr>\n",
       "    <tr>\n",
       "      <th>5</th>\n",
       "      <td>120</td>\n",
       "      <td>22192.966854</td>\n",
       "      <td>1.000000</td>\n",
       "    </tr>\n",
       "    <tr>\n",
       "      <th>6</th>\n",
       "      <td>180</td>\n",
       "      <td>34612.222587</td>\n",
       "      <td>1.265152</td>\n",
       "    </tr>\n",
       "  </tbody>\n",
       "</table>\n",
       "</div>"
      ],
      "text/plain": [
       "   TermDays    LoanAmount  InterestRate\n",
       "0        15   2885.967406      0.000000\n",
       "1        30   1606.039495      4.034005\n",
       "2        45   2346.143820      5.773965\n",
       "3        60  11559.646185      3.632352\n",
       "4        90  18050.140602      2.180963\n",
       "5       120  22192.966854      1.000000\n",
       "6       180  34612.222587      1.265152"
      ]
     },
     "execution_count": 19,
     "metadata": {},
     "output_type": "execute_result"
    }
   ],
   "source": [
    "data.groupby('TermDays').std().reset_index()[[\"TermDays\", \"LoanAmount\", 'InterestRate']]"
   ]
  },
  {
   "cell_type": "code",
   "execution_count": 20,
   "metadata": {},
   "outputs": [
    {
     "data": {
      "text/html": [
       "<div>\n",
       "<style scoped>\n",
       "    .dataframe tbody tr th:only-of-type {\n",
       "        vertical-align: middle;\n",
       "    }\n",
       "\n",
       "    .dataframe tbody tr th {\n",
       "        vertical-align: top;\n",
       "    }\n",
       "\n",
       "    .dataframe thead th {\n",
       "        text-align: right;\n",
       "    }\n",
       "</style>\n",
       "<table border=\"1\" class=\"dataframe\">\n",
       "  <thead>\n",
       "    <tr style=\"text-align: right;\">\n",
       "      <th></th>\n",
       "      <th>TermDays</th>\n",
       "      <th>LoanAmount</th>\n",
       "      <th>InterestRate</th>\n",
       "    </tr>\n",
       "  </thead>\n",
       "  <tbody>\n",
       "    <tr>\n",
       "      <th>0</th>\n",
       "      <td>15</td>\n",
       "      <td>1274.088050</td>\n",
       "      <td>15.000000</td>\n",
       "    </tr>\n",
       "    <tr>\n",
       "      <th>1</th>\n",
       "      <td>30</td>\n",
       "      <td>7941.964286</td>\n",
       "      <td>28.562143</td>\n",
       "    </tr>\n",
       "    <tr>\n",
       "      <th>2</th>\n",
       "      <td>45</td>\n",
       "      <td>10706.250000</td>\n",
       "      <td>28.732500</td>\n",
       "    </tr>\n",
       "    <tr>\n",
       "      <th>3</th>\n",
       "      <td>60</td>\n",
       "      <td>25710.526316</td>\n",
       "      <td>15.055789</td>\n",
       "    </tr>\n",
       "    <tr>\n",
       "      <th>4</th>\n",
       "      <td>90</td>\n",
       "      <td>37672.727273</td>\n",
       "      <td>10.645455</td>\n",
       "    </tr>\n",
       "    <tr>\n",
       "      <th>5</th>\n",
       "      <td>120</td>\n",
       "      <td>45055.555556</td>\n",
       "      <td>11.666667</td>\n",
       "    </tr>\n",
       "    <tr>\n",
       "      <th>6</th>\n",
       "      <td>180</td>\n",
       "      <td>80988.095238</td>\n",
       "      <td>6.250000</td>\n",
       "    </tr>\n",
       "  </tbody>\n",
       "</table>\n",
       "</div>"
      ],
      "text/plain": [
       "   TermDays    LoanAmount  InterestRate\n",
       "0        15   1274.088050     15.000000\n",
       "1        30   7941.964286     28.562143\n",
       "2        45  10706.250000     28.732500\n",
       "3        60  25710.526316     15.055789\n",
       "4        90  37672.727273     10.645455\n",
       "5       120  45055.555556     11.666667\n",
       "6       180  80988.095238      6.250000"
      ]
     },
     "execution_count": 20,
     "metadata": {},
     "output_type": "execute_result"
    }
   ],
   "source": [
    "data.groupby('TermDays').mean().reset_index()[[\"TermDays\", \"LoanAmount\", 'InterestRate']]"
   ]
  },
  {
   "cell_type": "code",
   "execution_count": 45,
   "metadata": {},
   "outputs": [
    {
     "name": "stdout",
     "output_type": "stream",
     "text": [
      "TermDays\n",
      "15      2885.97\n",
      "30      1606.04\n",
      "45      2346.14\n",
      "60     11559.65\n",
      "90     18050.14\n",
      "120    22192.97\n",
      "180    34612.22\n",
      "Name: LoanAmount, dtype: float64\n",
      "TermDays\n",
      "15      1274.09\n",
      "30      7941.96\n",
      "45     10706.25\n",
      "60     25710.53\n",
      "90     37672.73\n",
      "120    45055.56\n",
      "180    80988.10\n",
      "Name: LoanAmount, dtype: float64\n"
     ]
    }
   ],
   "source": [
    "# mean loan amount in 30-day loans and standard deviation of loan amount in 90-day loans\n",
    "round(data.groupby(['TermDays']).mean()[\"LoanAmount\"], 2)\n",
    "round(data.groupby(['TermDays']).std()[\"LoanAmount\"], 2)\n",
    "standard_deviation = round(data.groupby(['TermDays']).std()[\"LoanAmount\"], 2)\n",
    "mean = round(data.groupby(['TermDays']).mean()[\"LoanAmount\"], 2)\n",
    "print(standard_deviation)\n",
    "print(mean)"
   ]
  },
  {
   "cell_type": "markdown",
   "metadata": {},
   "source": [
    "--- "
   ]
  },
  {
   "cell_type": "markdown",
   "metadata": {},
   "source": [
    "### Question 5"
   ]
  },
  {
   "cell_type": "markdown",
   "metadata": {},
   "source": [
    "`Late` loans are defined as loans that were paid `more than 3 days` after their due date. Please find the average number of days that these loans were paid beyond their due date for each `week of the year`. This will require you to break all `appilcationDate's` down into the week of the year they were made and then perform a group by. \n",
    "\n",
    "What is the average number of days that `late` loans applied for in the second week of the year were paid late? Please sumbit your answer rounded to two decimal places. "
   ]
  },
  {
   "cell_type": "code",
   "execution_count": null,
   "metadata": {},
   "outputs": [],
   "source": [
    "\n"
   ]
  },
  {
   "cell_type": "markdown",
   "metadata": {},
   "source": [
    "---"
   ]
  },
  {
   "cell_type": "markdown",
   "metadata": {},
   "source": [
    "### The End"
   ]
  },
  {
   "cell_type": "markdown",
   "metadata": {},
   "source": [
    "Thank you for completing the challenge. Please make sure you have submitted all of your answers to the arise Challenge Answers form. "
   ]
  },
  {
   "cell_type": "markdown",
   "metadata": {},
   "source": [
    "### Notebook\n",
    "Please save you notebook as `yourEmail.ipynb` where you replace `yourEmail` with your actual email address and attach it to the arise Challenge Answers form. "
   ]
  }
 ],
 "metadata": {
  "kernelspec": {
   "display_name": "Python 3",
   "language": "python",
   "name": "python3"
  },
  "language_info": {
   "codemirror_mode": {
    "name": "ipython",
    "version": 3
   },
   "file_extension": ".py",
   "mimetype": "text/x-python",
   "name": "python",
   "nbconvert_exporter": "python",
   "pygments_lexer": "ipython3",
   "version": "3.7.8"
  }
 },
 "nbformat": 4,
 "nbformat_minor": 2
}

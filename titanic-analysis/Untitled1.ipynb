{
 "cells": [
  {
   "cell_type": "code",
   "execution_count": 15,
   "metadata": {},
   "outputs": [],
   "source": [
    "import numpy as np\n",
    "import matplotlib.pyplot as plt"
   ]
  },
  {
   "cell_type": "code",
   "execution_count": 33,
   "metadata": {},
   "outputs": [],
   "source": [
    "x = np.array([17,13,12,15,16,14,16,16,18,11, 20])\n",
    "y = np.array([92,73,59,80,93,85,66,79,77,55, 96])\n",
    "\n",
    "# y = np.array([17,13,12,15,16,14,16,16,18,19])\n",
    "z = np.array([60,91,95,70,65,85,63,64,50,46])"
   ]
  },
  {
   "cell_type": "code",
   "execution_count": 34,
   "metadata": {},
   "outputs": [
    {
     "name": "stdout",
     "output_type": "stream",
     "text": [
      "0.752700305713062\n"
     ]
    }
   ],
   "source": [
    "r = np.corrcoef(x,y)[0,1] #PEARSONS CORRELATION COEFFICIENT R\n",
    "print(r)"
   ]
  },
  {
   "cell_type": "code",
   "execution_count": 43,
   "metadata": {},
   "outputs": [
    {
     "name": "stdout",
     "output_type": "stream",
     "text": [
      "Slope :  3.873056994818654\n",
      "intercept :  18.57512953367874\n"
     ]
    }
   ],
   "source": [
    "x_std =x.std()\n",
    "y_std =y.std()\n",
    "\n",
    "b = r*(y_std/x_std) # SLOPE OF DATASET\n",
    "a = y.mean() - (x.mean() * b) #INTERCEPT OF GRAPH ON Y-AXIS\n",
    "print(\"Slope : \", b)\n",
    "print(\"intercept : \", a)"
   ]
  },
  {
   "cell_type": "code",
   "execution_count": 36,
   "metadata": {},
   "outputs": [
    {
     "data": {
      "text/plain": [
       "array([ 6.        ,  7.55555556,  9.11111111, 10.66666667, 12.22222222,\n",
       "       13.77777778, 15.33333333, 16.88888889, 18.44444444, 20.        ])"
      ]
     },
     "execution_count": 36,
     "metadata": {},
     "output_type": "execute_result"
    }
   ],
   "source": [
    "np.linspace(6,20,10)"
   ]
  },
  {
   "cell_type": "code",
   "execution_count": 60,
   "metadata": {},
   "outputs": [
    {
     "data": {
      "text/plain": [
       "array([57.30569948, 61.60909614, 65.9124928 , 70.21588946, 74.51928613,\n",
       "       78.82268279, 83.12607945, 87.42947611, 91.73287277, 96.03626943])"
      ]
     },
     "execution_count": 60,
     "metadata": {},
     "output_type": "execute_result"
    }
   ],
   "source": [
    "y_pred = a + (b*np.linspace(10,20,10)) #EQUATION OF GRAPH\n",
    "y_pred"
   ]
  },
  {
   "cell_type": "code",
   "execution_count": 61,
   "metadata": {},
   "outputs": [
    {
     "data": {
      "image/png": "[encoded data removed]",
      "text/plain": [
       "<Figure size 432x288 with 1 Axes>"
      ]
     },
     "metadata": {
      "needs_background": "light"
     },
     "output_type": "display_data"
    }
   ],
   "source": [
    "plt.scatter(x,y)\n",
    "plt.plot(np.linspace(10,20,10),y_pred)\n",
    "plt.grid()\n",
    "plt.show()"
   ]
  },
  {
   "cell_type": "code",
   "execution_count": 62,
   "metadata": {},
   "outputs": [
    {
     "data": {
      "text/plain": [
       "57.30569948186528"
      ]
     },
     "execution_count": 62,
     "metadata": {},
     "output_type": "execute_result"
    }
   ],
   "source": [
    "a + (b*10)"
   ]
  },
  {
   "cell_type": "code",
   "execution_count": null,
   "metadata": {},
   "outputs": [],
   "source": []
  }
 ],
 "metadata": {
  "kernelspec": {
   "display_name": "Python 3",
   "language": "python",
   "name": "python3"
  },
  "language_info": {
   "codemirror_mode": {
    "name": "ipython",
    "version": 3
   },
   "file_extension": ".py",
   "mimetype": "text/x-python",
   "name": "python",
   "nbconvert_exporter": "python",
   "pygments_lexer": "ipython3",
   "version": "3.7.8"
  }
 },
 "nbformat": 4,
 "nbformat_minor": 2
}
